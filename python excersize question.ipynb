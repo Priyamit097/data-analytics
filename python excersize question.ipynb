{
 "cells": [
  {
   "cell_type": "markdown",
   "id": "b6875a75",
   "metadata": {},
   "source": [
    "### write a pythone program add a tow number"
   ]
  },
  {
   "cell_type": "code",
   "execution_count": 2,
   "id": "efbbd770",
   "metadata": {},
   "outputs": [
    {
     "name": "stdout",
     "output_type": "stream",
     "text": [
      "inter the first number: 2\n",
      "inter the second number: 3\n",
      "the sum of those two number is:  5\n"
     ]
    }
   ],
   "source": [
    "a = int(input(\"inter the first number: \"))\n",
    "b = int(input(\"inter the second number: \"))\n",
    "print(\"the sum of those two number is: \",a+b)"
   ]
  },
  {
   "cell_type": "markdown",
   "id": "72b2581f",
   "metadata": {},
   "source": [
    "### write a pythone program to find rimander when A number is devided by 2"
   ]
  },
  {
   "cell_type": "code",
   "execution_count": 4,
   "id": "d0f8f312",
   "metadata": {},
   "outputs": [
    {
     "name": "stdout",
     "output_type": "stream",
     "text": [
      "inter the number: 77\n",
      "remainder is when the number in divide by 2 is : 1\n"
     ]
    }
   ],
   "source": [
    "number = int(input(\"inter the number: \"))\n",
    "print(\"remainder is when the number in divide by 2 is :\",number%2)"
   ]
  },
  {
   "cell_type": "markdown",
   "id": "c7261db8",
   "metadata": {},
   "source": [
    "### check the type of bariable assing usung input () function"
   ]
  },
  {
   "cell_type": "code",
   "execution_count": 25,
   "id": "8fd64f4b",
   "metadata": {},
   "outputs": [
    {
     "name": "stdout",
     "output_type": "stream",
     "text": [
      "inter the number: 33\n",
      "the number is divisible by 2 is a : 1\n"
     ]
    }
   ],
   "source": [
    "number = int(input(\"inter the number: \"))\n",
    "print(\"the number is divisible by 2 is a :\",number%2)             "
   ]
  },
  {
   "cell_type": "code",
   "execution_count": 7,
   "id": "40013ce5",
   "metadata": {},
   "outputs": [
    {
     "name": "stdout",
     "output_type": "stream",
     "text": [
      "inter somthing: 2\n",
      "the type of a is: <class 'str'>\n"
     ]
    }
   ],
   "source": [
    "a = input(\"inter somthing: \")\n",
    "print(\"the type of a is:\",type(a))"
   ]
  },
  {
   "cell_type": "code",
   "execution_count": 27,
   "id": "cc18bdcd",
   "metadata": {},
   "outputs": [
    {
     "name": "stdout",
     "output_type": "stream",
     "text": [
      "inter somthing: 3.4\n",
      " the type of a is:  <class 'str'>\n"
     ]
    }
   ],
   "source": [
    "a = input(\"inter somthing: \")\n",
    "print(\" the type of a is: \",type(a))"
   ]
  },
  {
   "cell_type": "code",
   "execution_count": 29,
   "id": "b308f2ca",
   "metadata": {},
   "outputs": [
    {
     "name": "stdout",
     "output_type": "stream",
     "text": [
      " a is grater then b or not : True\n"
     ]
    }
   ],
   "source": [
    "a = 2 \n",
    "b = 4\n",
    "print(\" a is grater then b or not :\", a<b)"
   ]
  },
  {
   "cell_type": "markdown",
   "id": "20d5e7a8",
   "metadata": {},
   "source": [
    "### use a comparision oprator to find out whether a given variable Ais greater thn B or not a=43 and b=80"
   ]
  },
  {
   "cell_type": "code",
   "execution_count": 8,
   "id": "1f541f6b",
   "metadata": {},
   "outputs": [
    {
     "name": "stdout",
     "output_type": "stream",
     "text": [
      "a is greater then b is:  False\n"
     ]
    }
   ],
   "source": [
    "a = 32\n",
    "b = 80\n",
    "print(\"a is greater then b is: \",a>b)"
   ]
  },
  {
   "cell_type": "code",
   "execution_count": 9,
   "id": "3e8e0138",
   "metadata": {},
   "outputs": [
    {
     "name": "stdout",
     "output_type": "stream",
     "text": [
      "a is greater then b is:  True\n"
     ]
    }
   ],
   "source": [
    "a = 326\n",
    "b = 80\n",
    "print(\"a is greater then b is: \",a>b)"
   ]
  },
  {
   "cell_type": "markdown",
   "id": "b23f5197",
   "metadata": {},
   "source": [
    "### writer a python program to find avarage of two number entire by the user"
   ]
  },
  {
   "cell_type": "code",
   "execution_count": 11,
   "id": "aa065d24",
   "metadata": {},
   "outputs": [
    {
     "name": "stdout",
     "output_type": "stream",
     "text": [
      "enter the number is:9\n",
      "the square of these number is: 81\n"
     ]
    }
   ],
   "source": [
    "a = int(input(\"enter the number is:\"))\n",
    "print(\"the square of these number is:\",a*a)"
   ]
  },
  {
   "cell_type": "markdown",
   "id": "394c740c",
   "metadata": {},
   "source": [
    "### writer a python program to calculate square of number entire by the user"
   ]
  },
  {
   "cell_type": "markdown",
   "id": "792998df",
   "metadata": {},
   "source": [
    "#                   string"
   ]
  },
  {
   "cell_type": "code",
   "execution_count": 12,
   "id": "1664d04c",
   "metadata": {},
   "outputs": [
    {
     "name": "stdout",
     "output_type": "stream",
     "text": [
      "priya\n"
     ]
    }
   ],
   "source": [
    "name = \"priya\"\n",
    "print(name)"
   ]
  },
  {
   "cell_type": "code",
   "execution_count": 15,
   "id": "a6db4668",
   "metadata": {},
   "outputs": [
    {
     "name": "stdout",
     "output_type": "stream",
     "text": [
      "i\n"
     ]
    }
   ],
   "source": [
    "print(name[2])"
   ]
  },
  {
   "cell_type": "code",
   "execution_count": 16,
   "id": "eb3ff7bd",
   "metadata": {},
   "outputs": [
    {
     "name": "stdout",
     "output_type": "stream",
     "text": [
      "priya\n"
     ]
    }
   ],
   "source": [
    "name = 'priya'\n",
    "print(name)"
   ]
  },
  {
   "cell_type": "code",
   "execution_count": 17,
   "id": "112e2ce4",
   "metadata": {},
   "outputs": [
    {
     "name": "stdout",
     "output_type": "stream",
     "text": [
      "i\n"
     ]
    }
   ],
   "source": [
    "print(name[2])"
   ]
  },
  {
   "cell_type": "code",
   "execution_count": 19,
   "id": "dd7c5d47",
   "metadata": {},
   "outputs": [
    {
     "name": "stdout",
     "output_type": "stream",
     "text": [
      "priy\n"
     ]
    }
   ],
   "source": [
    "print(name[0:4])"
   ]
  },
  {
   "cell_type": "code",
   "execution_count": 22,
   "id": "19b1cd6c",
   "metadata": {},
   "outputs": [
    {
     "name": "stdout",
     "output_type": "stream",
     "text": [
      "py\n"
     ]
    }
   ],
   "source": [
    "print(name[0:5:3])"
   ]
  },
  {
   "cell_type": "code",
   "execution_count": 30,
   "id": "518992c5",
   "metadata": {},
   "outputs": [
    {
     "name": "stdout",
     "output_type": "stream",
     "text": [
      "my name is priya\n"
     ]
    }
   ],
   "source": [
    "mystring = \"my name is priya\"\n",
    "print(mystring)"
   ]
  },
  {
   "cell_type": "code",
   "execution_count": 31,
   "id": "824e34b4",
   "metadata": {},
   "outputs": [
    {
     "name": "stdout",
     "output_type": "stream",
     "text": [
      "False\n"
     ]
    }
   ],
   "source": [
    "print(mystring.startswith('pr'))"
   ]
  },
  {
   "cell_type": "code",
   "execution_count": 26,
   "id": "70685120",
   "metadata": {},
   "outputs": [
    {
     "name": "stdout",
     "output_type": "stream",
     "text": [
      "True\n"
     ]
    }
   ],
   "source": [
    "print(mystring.endswith(\"iya\"))"
   ]
  },
  {
   "cell_type": "code",
   "execution_count": 27,
   "id": "8913b12a",
   "metadata": {},
   "outputs": [
    {
     "name": "stdout",
     "output_type": "stream",
     "text": [
      "False\n"
     ]
    }
   ],
   "source": [
    "print(mystring.startswith(\"iya\"))"
   ]
  },
  {
   "cell_type": "code",
   "execution_count": 28,
   "id": "917a4392",
   "metadata": {},
   "outputs": [
    {
     "name": "stdout",
     "output_type": "stream",
     "text": [
      "My name is priya\n"
     ]
    }
   ],
   "source": [
    "print(mystring.capitalize())"
   ]
  },
  {
   "cell_type": "code",
   "execution_count": 29,
   "id": "e3b5ecb7",
   "metadata": {},
   "outputs": [
    {
     "name": "stdout",
     "output_type": "stream",
     "text": [
      "2\n"
     ]
    }
   ],
   "source": [
    "print(mystring.count(\"a\"))"
   ]
  },
  {
   "cell_type": "code",
   "execution_count": 30,
   "id": "62968118",
   "metadata": {},
   "outputs": [
    {
     "name": "stdout",
     "output_type": "stream",
     "text": [
      "11\n"
     ]
    }
   ],
   "source": [
    "print(mystring.find(\"priya\"))"
   ]
  },
  {
   "cell_type": "code",
   "execution_count": 31,
   "id": "acededff",
   "metadata": {},
   "outputs": [
    {
     "name": "stdout",
     "output_type": "stream",
     "text": [
      "my name is poonam\n"
     ]
    }
   ],
   "source": [
    "print(mystring.replace(\"priya\",\"poonam\"))"
   ]
  },
  {
   "cell_type": "code",
   "execution_count": 34,
   "id": "c8233483",
   "metadata": {},
   "outputs": [
    {
     "name": "stdout",
     "output_type": "stream",
     "text": [
      "my name\n",
      "is priya\n"
     ]
    }
   ],
   "source": [
    "mname = 'my name\\nis priya'\n",
    "print(mname)"
   ]
  },
  {
   "cell_type": "code",
   "execution_count": 36,
   "id": "37296b91",
   "metadata": {},
   "outputs": [
    {
     "name": "stdout",
     "output_type": "stream",
     "text": [
      "my name\n",
      " to \t is priya\n"
     ]
    }
   ],
   "source": [
    "mname = 'my name\\n to \\t is priya'\n",
    "print(mname)"
   ]
  },
  {
   "cell_type": "markdown",
   "id": "be4de02e",
   "metadata": {},
   "source": [
    "name = input('inter your name:"
   ]
  },
  {
   "cell_type": "code",
   "execution_count": 37,
   "id": "c0bacffb",
   "metadata": {},
   "outputs": [
    {
     "name": "stdout",
     "output_type": "stream",
     "text": [
      "inter your name:ankita\n",
      "good morning:ankita\n"
     ]
    }
   ],
   "source": [
    "name = input('inter your name:')\n",
    "print('good morning:'+name)"
   ]
  },
  {
   "cell_type": "code",
   "execution_count": 44,
   "id": "dee0bb28",
   "metadata": {},
   "outputs": [
    {
     "name": "stdout",
     "output_type": "stream",
     "text": [
      "inter the name:priya\n",
      "inter the date:31\n",
      "\n",
      "dear priya,\n",
      "you are selected\n",
      "31\n",
      "\n"
     ]
    }
   ],
   "source": [
    "name = input('inter the name:')\n",
    "date = input('inter the date:')\n",
    "\n",
    "template = '''\n",
    "dear <|name|>,\n",
    "you are selected\n",
    "<|date|>\n",
    "'''\n",
    "\n",
    "print(template.replace('<|name|>',name).replace('<|date|>',date))"
   ]
  },
  {
   "cell_type": "code",
   "execution_count": 46,
   "id": "1003103b",
   "metadata": {},
   "outputs": [],
   "source": [
    "mystr = 'i am a  good  girl'"
   ]
  },
  {
   "cell_type": "code",
   "execution_count": 48,
   "id": "13ba3e18",
   "metadata": {},
   "outputs": [
    {
     "name": "stdout",
     "output_type": "stream",
     "text": [
      "6\n"
     ]
    }
   ],
   "source": [
    "print(mystr.find('  '))"
   ]
  },
  {
   "cell_type": "code",
   "execution_count": 49,
   "id": "32bd7c7c",
   "metadata": {},
   "outputs": [
    {
     "name": "stdout",
     "output_type": "stream",
     "text": [
      "i am a good girl\n"
     ]
    }
   ],
   "source": [
    "print(mystr.replace('  ',' '))"
   ]
  },
  {
   "cell_type": "markdown",
   "id": "e9107106",
   "metadata": {},
   "source": [
    "# list and tuple"
   ]
  },
  {
   "cell_type": "code",
   "execution_count": 52,
   "id": "5a7ab120",
   "metadata": {},
   "outputs": [],
   "source": [
    "a = 1\n",
    "b =\" hii darsh\"\n",
    "c = False"
   ]
  },
  {
   "cell_type": "code",
   "execution_count": 54,
   "id": "dfae8bfd",
   "metadata": {},
   "outputs": [
    {
     "name": "stdout",
     "output_type": "stream",
     "text": [
      "[1, ' hii darsh', False]\n"
     ]
    }
   ],
   "source": [
    "mylist = [a,b,c]\n",
    "print(mylist)"
   ]
  },
  {
   "cell_type": "code",
   "execution_count": 55,
   "id": "8fb6694b",
   "metadata": {},
   "outputs": [
    {
     "name": "stdout",
     "output_type": "stream",
     "text": [
      "<class 'list'>\n"
     ]
    }
   ],
   "source": [
    "print(type(mylist))"
   ]
  },
  {
   "cell_type": "code",
   "execution_count": 56,
   "id": "050a789c",
   "metadata": {},
   "outputs": [
    {
     "name": "stdout",
     "output_type": "stream",
     "text": [
      "[1, 2, 'priya']\n"
     ]
    }
   ],
   "source": [
    "l1 = [1,2,'priya']\n",
    "print(l1)"
   ]
  },
  {
   "cell_type": "code",
   "execution_count": 57,
   "id": "1e7c79ae",
   "metadata": {},
   "outputs": [
    {
     "name": "stdout",
     "output_type": "stream",
     "text": [
      "priya\n"
     ]
    }
   ],
   "source": [
    "print(l1[2])"
   ]
  },
  {
   "cell_type": "code",
   "execution_count": 58,
   "id": "cac5f039",
   "metadata": {},
   "outputs": [
    {
     "name": "stdout",
     "output_type": "stream",
     "text": [
      "[1, 2, 'priya']\n"
     ]
    }
   ],
   "source": [
    "print(l1[0:3])"
   ]
  },
  {
   "cell_type": "code",
   "execution_count": 33,
   "id": "73733169",
   "metadata": {},
   "outputs": [
    {
     "data": {
      "text/plain": [
       "[1, 3, 5, 2, 7, 9, 4, 6, 5]"
      ]
     },
     "execution_count": 33,
     "metadata": {},
     "output_type": "execute_result"
    }
   ],
   "source": [
    "l2 = [1,3,5,2,7,9,4,6,5]\n",
    "l2"
   ]
  },
  {
   "cell_type": "code",
   "execution_count": 34,
   "id": "5db4c919",
   "metadata": {},
   "outputs": [
    {
     "name": "stdout",
     "output_type": "stream",
     "text": [
      "None\n"
     ]
    }
   ],
   "source": [
    "print(l2.sort())"
   ]
  },
  {
   "cell_type": "code",
   "execution_count": 35,
   "id": "e5518fb0",
   "metadata": {},
   "outputs": [
    {
     "name": "stdout",
     "output_type": "stream",
     "text": [
      "[1, 2, 3, 4, 5, 5, 6, 7, 9]\n"
     ]
    }
   ],
   "source": [
    "l2.sort()\n",
    "print(l2)"
   ]
  },
  {
   "cell_type": "code",
   "execution_count": 36,
   "id": "90420ced",
   "metadata": {},
   "outputs": [
    {
     "data": {
      "text/plain": [
       "[9, 7, 6, 5, 5, 4, 3, 2, 1]"
      ]
     },
     "execution_count": 36,
     "metadata": {},
     "output_type": "execute_result"
    }
   ],
   "source": [
    "l2.reverse()\n",
    "l2"
   ]
  },
  {
   "cell_type": "code",
   "execution_count": 37,
   "id": "41035c3c",
   "metadata": {},
   "outputs": [],
   "source": [
    "l2.append(3)"
   ]
  },
  {
   "cell_type": "code",
   "execution_count": 38,
   "id": "3a51c8ba",
   "metadata": {},
   "outputs": [
    {
     "data": {
      "text/plain": [
       "[9, 7, 6, 5, 5, 4, 3, 2, 1, 3]"
      ]
     },
     "execution_count": 38,
     "metadata": {},
     "output_type": "execute_result"
    }
   ],
   "source": [
    "l2"
   ]
  },
  {
   "cell_type": "code",
   "execution_count": 39,
   "id": "c8bf9fca",
   "metadata": {},
   "outputs": [],
   "source": [
    "l2.insert(2 ,3)"
   ]
  },
  {
   "cell_type": "code",
   "execution_count": 40,
   "id": "7086407b",
   "metadata": {},
   "outputs": [
    {
     "data": {
      "text/plain": [
       "[9, 7, 3, 6, 5, 5, 4, 3, 2, 1, 3]"
      ]
     },
     "execution_count": 40,
     "metadata": {},
     "output_type": "execute_result"
    }
   ],
   "source": [
    "l2"
   ]
  },
  {
   "cell_type": "code",
   "execution_count": 73,
   "id": "db89d175",
   "metadata": {},
   "outputs": [
    {
     "data": {
      "text/plain": [
       "[9, 7, 6, 5, 5, 4, 3, 2, 1, 3]"
      ]
     },
     "execution_count": 73,
     "metadata": {},
     "output_type": "execute_result"
    }
   ],
   "source": [
    "l2.pop(2)\n",
    "l2"
   ]
  },
  {
   "cell_type": "code",
   "execution_count": 76,
   "id": "f77efa11",
   "metadata": {},
   "outputs": [
    {
     "data": {
      "text/plain": [
       "[9, 7, 6, 5, 5, 4, 2, 1]"
      ]
     },
     "execution_count": 76,
     "metadata": {},
     "output_type": "execute_result"
    }
   ],
   "source": [
    "l2.remove(3)\n",
    "l2"
   ]
  },
  {
   "cell_type": "markdown",
   "id": "4dcbebb6",
   "metadata": {},
   "source": [
    "# tuple"
   ]
  },
  {
   "cell_type": "markdown",
   "id": "24c33474",
   "metadata": {},
   "source": [
    "# tuple is a immutable data type"
   ]
  },
  {
   "cell_type": "code",
   "execution_count": 78,
   "id": "a77c023c",
   "metadata": {},
   "outputs": [],
   "source": [
    "t1 = (1,2,3,4,6,'tom')"
   ]
  },
  {
   "cell_type": "code",
   "execution_count": 79,
   "id": "e94e5e2a",
   "metadata": {},
   "outputs": [
    {
     "data": {
      "text/plain": [
       "(1, 2, 3, 4, 6, 'tom')"
      ]
     },
     "execution_count": 79,
     "metadata": {},
     "output_type": "execute_result"
    }
   ],
   "source": [
    "t1"
   ]
  },
  {
   "cell_type": "code",
   "execution_count": 80,
   "id": "580cc8d6",
   "metadata": {},
   "outputs": [
    {
     "data": {
      "text/plain": [
       "tuple"
      ]
     },
     "execution_count": 80,
     "metadata": {},
     "output_type": "execute_result"
    }
   ],
   "source": [
    "type(t1)"
   ]
  },
  {
   "cell_type": "code",
   "execution_count": 81,
   "id": "e50f26aa",
   "metadata": {},
   "outputs": [
    {
     "name": "stdout",
     "output_type": "stream",
     "text": [
      "3\n"
     ]
    }
   ],
   "source": [
    "print(t1[2])"
   ]
  },
  {
   "cell_type": "code",
   "execution_count": 82,
   "id": "726f61d0",
   "metadata": {},
   "outputs": [
    {
     "data": {
      "text/plain": [
       "(1, 2, 3, 4, 5, 2, 3, 4, 1, 2, 3, 4, 5, 1, 2, 3, 4, 5, 6)"
      ]
     },
     "execution_count": 82,
     "metadata": {},
     "output_type": "execute_result"
    }
   ],
   "source": [
    "t2 = (1,2,3,4,5,2,3,4,1,2,3,4,5,1,2,3,4,5,6)\n",
    "t2"
   ]
  },
  {
   "cell_type": "code",
   "execution_count": 86,
   "id": "54c8ebdc",
   "metadata": {},
   "outputs": [
    {
     "name": "stdout",
     "output_type": "stream",
     "text": [
      "1\n"
     ]
    }
   ],
   "source": [
    "print(t2.count(6))"
   ]
  },
  {
   "cell_type": "code",
   "execution_count": 92,
   "id": "6f451b36",
   "metadata": {},
   "outputs": [
    {
     "data": {
      "text/plain": [
       "0"
      ]
     },
     "execution_count": 92,
     "metadata": {},
     "output_type": "execute_result"
    }
   ],
   "source": [
    "t2.index(1)"
   ]
  },
  {
   "cell_type": "code",
   "execution_count": 96,
   "id": "58ea2a3b",
   "metadata": {},
   "outputs": [
    {
     "name": "stdout",
     "output_type": "stream",
     "text": [
      "enter the fruit 1: mango\n",
      "enter the fruit 2: banana\n",
      "enter the fruit 3: apple\n",
      "enter the fruit 4: graps\n",
      "enter the fruit 5: tomato\n",
      "enter the fruit 6: mangow\n"
     ]
    }
   ],
   "source": [
    "f1 = input(\"enter the fruit 1: \")\n",
    "f2 =  input(\"enter the fruit 2: \")\n",
    "f3 =  input(\"enter the fruit 3: \")\n",
    "f4 =  input(\"enter the fruit 4: \")\n",
    "f5 =  input(\"enter the fruit 5: \")\n",
    "f6 = input (\"enter the fruit 6: \")"
   ]
  },
  {
   "cell_type": "code",
   "execution_count": 1,
   "id": "66533a59",
   "metadata": {},
   "outputs": [
    {
     "name": "stdout",
     "output_type": "stream",
     "text": [
      "enter the fruit 1: mango\n",
      "enter the fruit 2: banana\n",
      "enter the fruit 3: graps\n",
      "enter the fruit 4: tomato\n",
      "enter the fruit 5: chips\n",
      "enter the fruit 6: biskut\n"
     ]
    }
   ],
   "source": [
    "f1 = input(\"enter the fruit 1: \")\n",
    "f2 =  input(\"enter the fruit 2: \")\n",
    "f3 =  input(\"enter the fruit 3: \")\n",
    "f4 =  input(\"enter the fruit 4: \")\n",
    "f5 =  input(\"enter the fruit 5: \")\n",
    "f6 = input (\"enter the fruit 6: \")"
   ]
  },
  {
   "cell_type": "code",
   "execution_count": 3,
   "id": "8c78779b",
   "metadata": {},
   "outputs": [
    {
     "name": "stdout",
     "output_type": "stream",
     "text": [
      "['mango', 'banana', 'graps', 'tomato', 'chips', 'biskut']\n"
     ]
    }
   ],
   "source": [
    "fruitlist = [f1,f2,f3,f4,f5,f6]\n",
    "print(fruitlist)"
   ]
  },
  {
   "cell_type": "code",
   "execution_count": 97,
   "id": "8a2ab64b",
   "metadata": {},
   "outputs": [
    {
     "name": "stdout",
     "output_type": "stream",
     "text": [
      "['mango', 'banana', 'apple', 'graps', 'tomato', 'mangow']\n"
     ]
    }
   ],
   "source": [
    "fruitlist = [f1,f2,f3,f4,f5,f6]\n",
    "print(fruitlist)"
   ]
  },
  {
   "cell_type": "code",
   "execution_count": 98,
   "id": "f9fcc460",
   "metadata": {},
   "outputs": [
    {
     "name": "stdout",
     "output_type": "stream",
     "text": [
      "enter the studrnt marks 1: 89\n",
      "enter the studrnt marks 2: 87\n",
      "enter the studrnt marks 3: 99\n",
      "enter the studrnt marks 4: 98\n",
      "enter the studrnt marks 5: 97\n",
      "enter the studrnt marks 6: 78\n"
     ]
    }
   ],
   "source": [
    "marks1 = int(input(\"enter the studrnt marks 1: \"))\n",
    "marks2 = int(input(\"enter the studrnt marks 2: \"))\n",
    "marks3 = int(input(\"enter the studrnt marks 3: \"))\n",
    "marks4 = int(input(\"enter the studrnt marks 4: \"))\n",
    "marks5 = int(input(\"enter the studrnt marks 5: \"))\n",
    "marks6 = int(input (\"enter the studrnt marks 6: \"))"
   ]
  },
  {
   "cell_type": "code",
   "execution_count": 101,
   "id": "5b5b8445",
   "metadata": {},
   "outputs": [
    {
     "name": "stdout",
     "output_type": "stream",
     "text": [
      "[89, 87, 99, 98, 97, 78]\n"
     ]
    }
   ],
   "source": [
    "markslist = [marks1,marks2,marks3,marks4,marks5,marks6]\n",
    "print(markslist)"
   ]
  },
  {
   "cell_type": "code",
   "execution_count": 103,
   "id": "f9e50ca8",
   "metadata": {},
   "outputs": [
    {
     "name": "stdout",
     "output_type": "stream",
     "text": [
      "[78, 87, 89, 97, 98, 99]\n"
     ]
    }
   ],
   "source": [
    "markslist.sort()\n",
    "print(markslist)"
   ]
  },
  {
   "cell_type": "code",
   "execution_count": 104,
   "id": "b42903df",
   "metadata": {},
   "outputs": [
    {
     "name": "stdout",
     "output_type": "stream",
     "text": [
      "the value of sum is 10\n"
     ]
    }
   ],
   "source": [
    "mylist = [1,2,3,4,]\n",
    "sum = 0\n",
    "sum += mylist[0]\n",
    "sum += mylist[1]\n",
    "sum += mylist[2]\n",
    "sum += mylist[3]\n",
    "print(\"the value of sum is\",sum)\n"
   ]
  },
  {
   "cell_type": "markdown",
   "id": "9795aa46",
   "metadata": {},
   "source": [
    "# ditctonary is a mutable data type "
   ]
  },
  {
   "cell_type": "code",
   "execution_count": 105,
   "id": "621d9e45",
   "metadata": {},
   "outputs": [
    {
     "data": {
      "text/plain": [
       "{'name': 'priya', 'class': 10, 'subject': 'math'}"
      ]
     },
     "execution_count": 105,
     "metadata": {},
     "output_type": "execute_result"
    }
   ],
   "source": [
    "mydict = { 'name':'priya',\n",
    "         'class':10,\n",
    "         'subject':'math',}\n",
    "mydict"
   ]
  },
  {
   "cell_type": "code",
   "execution_count": 109,
   "id": "d786268a",
   "metadata": {},
   "outputs": [
    {
     "name": "stdout",
     "output_type": "stream",
     "text": [
      "dict_keys(['name', 'class', 'subject'])\n"
     ]
    }
   ],
   "source": [
    "print(mydict.keys())"
   ]
  },
  {
   "cell_type": "code",
   "execution_count": 111,
   "id": "4a4e1a3e",
   "metadata": {},
   "outputs": [
    {
     "name": "stdout",
     "output_type": "stream",
     "text": [
      "['priya', 10, 'math']\n"
     ]
    }
   ],
   "source": [
    "print(list(mydict.values()))"
   ]
  },
  {
   "cell_type": "code",
   "execution_count": 112,
   "id": "e1ea3486",
   "metadata": {},
   "outputs": [
    {
     "name": "stdout",
     "output_type": "stream",
     "text": [
      "dict_items([('name', 'priya'), ('class', 10), ('subject', 'math')])\n"
     ]
    }
   ],
   "source": [
    "print(mydict.items())"
   ]
  },
  {
   "cell_type": "code",
   "execution_count": 113,
   "id": "6bbb0998",
   "metadata": {},
   "outputs": [],
   "source": [
    "updtmydict = {'poonam':'sister'}"
   ]
  },
  {
   "cell_type": "code",
   "execution_count": 114,
   "id": "62b78a06",
   "metadata": {},
   "outputs": [],
   "source": [
    "mydict.update(updtmydict)"
   ]
  },
  {
   "cell_type": "code",
   "execution_count": 115,
   "id": "50fefcc8",
   "metadata": {},
   "outputs": [
    {
     "name": "stdout",
     "output_type": "stream",
     "text": [
      "{'name': 'priya', 'class': 10, 'subject': 'math', 'poonam': 'sister'}\n"
     ]
    }
   ],
   "source": [
    "print(mydict)"
   ]
  },
  {
   "cell_type": "code",
   "execution_count": 116,
   "id": "b8583f92",
   "metadata": {},
   "outputs": [],
   "source": [
    "updtmydict = {'poonam':'friend'}"
   ]
  },
  {
   "cell_type": "code",
   "execution_count": 117,
   "id": "fedd7aeb",
   "metadata": {},
   "outputs": [],
   "source": [
    "mydict.update(updtmydict)"
   ]
  },
  {
   "cell_type": "code",
   "execution_count": 118,
   "id": "6c035aba",
   "metadata": {},
   "outputs": [
    {
     "name": "stdout",
     "output_type": "stream",
     "text": [
      "{'name': 'priya', 'class': 10, 'subject': 'math', 'poonam': 'friend'}\n"
     ]
    }
   ],
   "source": [
    "print(mydict)"
   ]
  },
  {
   "cell_type": "markdown",
   "id": "1288d381",
   "metadata": {},
   "source": [
    "# sets"
   ]
  },
  {
   "cell_type": "code",
   "execution_count": 119,
   "id": "968f9410",
   "metadata": {},
   "outputs": [
    {
     "data": {
      "text/plain": [
       "{1, 2, 3, 4, 5, 6}"
      ]
     },
     "execution_count": 119,
     "metadata": {},
     "output_type": "execute_result"
    }
   ],
   "source": [
    "s1 = {2,1,2,1,3,4,5,6,5,4,3}\n",
    "s1"
   ]
  },
  {
   "cell_type": "code",
   "execution_count": 4,
   "id": "23e99ef3",
   "metadata": {},
   "outputs": [
    {
     "name": "stdout",
     "output_type": "stream",
     "text": [
      "option are dict_keys(['pankha', 'balb', 'tel'])\n",
      "inter the hindi words\n",
      "pankha\n",
      "the meaning of ur word is: fan\n"
     ]
    }
   ],
   "source": [
    "mydict = {\n",
    "    \"pankha\":\"fan\",\n",
    "    \"balb\":\"light\",\n",
    "    \"tel\":\"oil\"\n",
    "}\n",
    "print(\"option are\",mydict.keys())\n",
    "a = input(\"inter the hindi words\\n\")\n",
    "print('the meaning of ur word is:',mydict[a])"
   ]
  },
  {
   "cell_type": "code",
   "execution_count": 6,
   "id": "360eef58",
   "metadata": {},
   "outputs": [
    {
     "name": "stdout",
     "output_type": "stream",
     "text": [
      "option are dict_keys(['pankha', 'balb', 'tel'])\n",
      "inter the hindi word\n",
      "pankha\n",
      "the meaning of your word is: fan\n"
     ]
    }
   ],
   "source": [
    "mydict = {\n",
    "    \"pankha\":\"fan\",\n",
    "    \"balb\":\"light\",\n",
    "    \"tel\":\"oil\"\n",
    "}\n",
    "print(\"option are\",mydict.keys())\n",
    "a = input(\"inter the hindi word\\n\")\n",
    "print(\"the meaning of your word is:\",mydict[a])"
   ]
  },
  {
   "cell_type": "markdown",
   "id": "5c748419",
   "metadata": {},
   "source": [
    "# if ilif else condition"
   ]
  },
  {
   "cell_type": "code",
   "execution_count": 9,
   "id": "a7cea999",
   "metadata": {},
   "outputs": [
    {
     "name": "stdout",
     "output_type": "stream",
     "text": [
      "inter your age: 44\n",
      "you dont get this job\n"
     ]
    }
   ],
   "source": [
    "age = int(input(\"inter your age: \"))   # use and operator\n",
    "if (age>25 and age<40):\n",
    "    print(\"you are iligibale for this job\")\n",
    "    \n",
    "else:\n",
    "    print(\"you dont get this job\")"
   ]
  },
  {
   "cell_type": "code",
   "execution_count": 7,
   "id": "41528f67",
   "metadata": {},
   "outputs": [
    {
     "name": "stdout",
     "output_type": "stream",
     "text": [
      "inter your age: 2\n",
      "you are iligibale for this job\n"
     ]
    }
   ],
   "source": [
    "age = int(input(\"inter your age: \"))\n",
    "if (age>25 or age<40):\n",
    "    print(\"you are iligibale for this job\")\n",
    "    \n",
    "else:\n",
    "    print(\"you dont get this job\")"
   ]
  },
  {
   "cell_type": "code",
   "execution_count": 8,
   "id": "be3d98bd",
   "metadata": {},
   "outputs": [
    {
     "name": "stdout",
     "output_type": "stream",
     "text": [
      "inter your age: 22\n",
      "you dont get this job\n"
     ]
    }
   ],
   "source": [
    "age = int(input(\"inter your age: \"))\n",
    "if (age>25 and age<40):\n",
    "    print(\"you are iligibale for this job\")\n",
    "    \n",
    "else:\n",
    "    print(\"you dont get this job\")"
   ]
  },
  {
   "cell_type": "code",
   "execution_count": 14,
   "id": "123e8862",
   "metadata": {},
   "outputs": [
    {
     "name": "stdout",
     "output_type": "stream",
     "text": [
      "i am optional\n"
     ]
    }
   ],
   "source": [
    "a = 6\n",
    "if (a==8):\n",
    "    print('waoo')\n",
    "    \n",
    "elif (a<4):\n",
    "    print('nothing yr')\n",
    "    \n",
    "else:\n",
    "    print('i am optional')"
   ]
  },
  {
   "cell_type": "markdown",
   "id": "e32c97c5",
   "metadata": {},
   "source": [
    "## practice 1"
   ]
  },
  {
   "cell_type": "code",
   "execution_count": 23,
   "id": "f9874874",
   "metadata": {},
   "outputs": [
    {
     "name": "stdout",
     "output_type": "stream",
     "text": [
      "inter the number 1: 2\n",
      "inter the number 2: 333\n",
      "inter the number 3: 4\n",
      "inter the number 4: 6\n",
      "333 no stronger\n"
     ]
    }
   ],
   "source": [
    "num1 = int(input(\"inter the number 1: \"))\n",
    "num2 = int(input(\"inter the number 2: \"))\n",
    "num3 = int(input(\"inter the number 3: \"))\n",
    "num4 = int(input(\"inter the number 4: \"))\n",
    "           \n",
    "if (num1>num4):\n",
    "           f1 = num1\n",
    "           \n",
    "else:\n",
    "     f1 = num2\n",
    "           \n",
    "if (num2>num3):\n",
    "           f2=num2\n",
    "else:\n",
    "           f2=num1\n",
    "           \n",
    "if (f1>f2):\n",
    "           print(str (f1),\"strong number\")\n",
    "else:\n",
    "           print(str(f2),\"no stronger\")"
   ]
  },
  {
   "cell_type": "code",
   "execution_count": 28,
   "id": "53361769",
   "metadata": {},
   "outputs": [
    {
     "name": "stdout",
     "output_type": "stream",
     "text": [
      "enter the sub1: 24\n",
      "enter the sub2: 88\n",
      "enter the sub3: 67\n",
      "yoy are fail\n",
      " congratulation you are not fail\n"
     ]
    }
   ],
   "source": [
    "sub1 = int(input(\"enter the sub1: \"))\n",
    "sub2 = int(input(\"enter the sub2: \"))\n",
    "sub3 = int(input(\"enter the sub3: \"))\n",
    "if (sub1<33 or sub2<33 or sub3<33):\n",
    "    print(\"yoy are fail\")\n",
    "if(sub1+sub2+sub3)/3 <40:\n",
    "    print(\"fail\")\n",
    "    \n",
    "else:\n",
    "    print(\" congratulation you are not fail\")"
   ]
  },
  {
   "cell_type": "code",
   "execution_count": 13,
   "id": "8c50cc16",
   "metadata": {},
   "outputs": [
    {
     "name": "stdout",
     "output_type": "stream",
     "text": [
      "enter the sub1: 42\n",
      "enter the sub2: 43\n",
      "enter the sub3: 44\n",
      " congratulation you are not fail\n"
     ]
    }
   ],
   "source": [
    "sub1 = int(input(\"enter the sub1: \"))\n",
    "sub2 = int(input(\"enter the sub2: \"))\n",
    "sub3 = int(input(\"enter the sub3: \"))\n",
    "if (sub1<33 and sub2<33  and sub3<33):\n",
    "    print(\"yoy are fail\")\n",
    "if(sub1+sub2+sub3)/3 <40:\n",
    "    print(\"fail\")\n",
    "    \n",
    "else:\n",
    "    print(\" congratulation you are not fail\")"
   ]
  },
  {
   "cell_type": "markdown",
   "id": "e53f6632",
   "metadata": {},
   "source": [
    "# while loop"
   ]
  },
  {
   "cell_type": "code",
   "execution_count": 36,
   "id": "9b8e8f6b",
   "metadata": {},
   "outputs": [
    {
     "name": "stdout",
     "output_type": "stream",
     "text": [
      "yes0\n",
      "yes1\n",
      "yes2\n",
      "yes3\n",
      "yes4\n",
      "yes5\n",
      "yes6\n",
      "yes7\n",
      "yes8\n",
      "yes9\n",
      "done\n"
     ]
    }
   ],
   "source": [
    "i = 0\n",
    "while i<10:\n",
    "    print(\"yes\"+str(i))\n",
    "    i=i+1\n",
    "    \n",
    "print(\"done\")"
   ]
  },
  {
   "cell_type": "code",
   "execution_count": null,
   "id": "471d2b7f",
   "metadata": {},
   "outputs": [],
   "source": []
  },
  {
   "cell_type": "code",
   "execution_count": 43,
   "id": "abac371d",
   "metadata": {},
   "outputs": [
    {
     "name": "stdout",
     "output_type": "stream",
     "text": [
      "hi1\n",
      "hi2\n",
      "hi3\n",
      "hi4\n",
      "hi5\n",
      "hi6\n",
      "hi7\n",
      "hi8\n",
      "yes\n"
     ]
    }
   ],
   "source": [
    "i = 1\n",
    "while i<=8:\n",
    "    print('hi'+str(i))\n",
    "    i = i+1\n",
    "    \n",
    "print(\"yes\")   "
   ]
  },
  {
   "cell_type": "code",
   "execution_count": 48,
   "id": "693fe3b0",
   "metadata": {},
   "outputs": [
    {
     "name": "stdout",
     "output_type": "stream",
     "text": [
      "priya\n",
      "priya\n",
      "priya\n",
      "priya\n",
      "priya\n"
     ]
    }
   ],
   "source": [
    "i = 0\n",
    "while i<5:\n",
    "    print(\"priya\")\n",
    "    i = i+1\n"
   ]
  },
  {
   "cell_type": "code",
   "execution_count": 16,
   "id": "13a55f34",
   "metadata": {},
   "outputs": [
    {
     "name": "stdout",
     "output_type": "stream",
     "text": [
      "yes0\n",
      "yes1\n",
      "yes2\n",
      "yes3\n",
      "yes4\n",
      "yes5\n",
      "yes6\n",
      "yes7\n",
      "yes8\n",
      "yes9\n",
      "done\n"
     ]
    }
   ],
   "source": [
    "i = 0\n",
    "while i<10:\n",
    "    print(\"yes\"+str(i))\n",
    "    i=i+1\n",
    "    \n",
    "print(\"done\")    "
   ]
  },
  {
   "cell_type": "code",
   "execution_count": 1,
   "id": "42c69aec",
   "metadata": {},
   "outputs": [
    {
     "name": "stdout",
     "output_type": "stream",
     "text": [
      "banana\n",
      "mangow\n",
      "apple\n",
      "pinapple\n",
      "watermelon\n"
     ]
    }
   ],
   "source": [
    "fruit = ['banana','mangow','apple','pinapple','watermelon']\n",
    "i = 0\n",
    "while i<len(fruit):\n",
    "    print(fruit[i])\n",
    "    i = i+1"
   ]
  },
  {
   "cell_type": "code",
   "execution_count": 17,
   "id": "da5f03cf",
   "metadata": {},
   "outputs": [
    {
     "name": "stdout",
     "output_type": "stream",
     "text": [
      "['banana', 'mangow', 'apple', 'pinapple', 'watermelon']\n",
      "['banana', 'mangow', 'apple', 'pinapple', 'watermelon']\n",
      "['banana', 'mangow', 'apple', 'pinapple', 'watermelon']\n",
      "['banana', 'mangow', 'apple', 'pinapple', 'watermelon']\n",
      "['banana', 'mangow', 'apple', 'pinapple', 'watermelon']\n"
     ]
    }
   ],
   "source": [
    "fruit = ['banana','mangow','apple','pinapple','watermelon']\n",
    "\n",
    "for items in fruit:\n",
    "    print(fruit)"
   ]
  },
  {
   "cell_type": "code",
   "execution_count": 7,
   "id": "526cfe83",
   "metadata": {},
   "outputs": [
    {
     "name": "stdout",
     "output_type": "stream",
     "text": [
      "1\n",
      "3\n",
      "5\n",
      "7\n"
     ]
    }
   ],
   "source": [
    "for i in range (1,8,2):\n",
    "    print(i)"
   ]
  },
  {
   "cell_type": "code",
   "execution_count": 8,
   "id": "6a1de8c2",
   "metadata": {},
   "outputs": [
    {
     "name": "stdout",
     "output_type": "stream",
     "text": [
      "0\n",
      "1\n",
      "2\n",
      "3\n",
      "4\n",
      "5\n",
      "6\n",
      "7\n",
      "8\n",
      "9\n",
      "10\n",
      "11\n",
      "12\n",
      "my project is done\n"
     ]
    }
   ],
   "source": [
    "for i in range(13):\n",
    "    print(i)\n",
    "else:\n",
    "    print(\"my project is done\")"
   ]
  },
  {
   "cell_type": "code",
   "execution_count": 18,
   "id": "e06dd9de",
   "metadata": {},
   "outputs": [
    {
     "name": "stdout",
     "output_type": "stream",
     "text": [
      "0\n",
      "1\n",
      "2\n",
      "3\n",
      "4\n",
      "5\n",
      "6\n",
      "7\n",
      "8\n",
      "9\n",
      "10\n",
      "11\n",
      "12\n",
      "my project is done\n"
     ]
    }
   ],
   "source": [
    "for i in range(13):\n",
    "    print(i)\n",
    "\n",
    "print(\"my project is done\")"
   ]
  },
  {
   "cell_type": "code",
   "execution_count": 9,
   "id": "68f8ad05",
   "metadata": {},
   "outputs": [
    {
     "name": "stdout",
     "output_type": "stream",
     "text": [
      "0\n",
      "1\n",
      "2\n",
      "3\n",
      "4\n",
      "5\n"
     ]
    }
   ],
   "source": [
    "for i in range(13):\n",
    "    print(i)\n",
    "    if i == 5:\n",
    "        break\n",
    "else:\n",
    "    print(\"my project is done\")"
   ]
  },
  {
   "cell_type": "code",
   "execution_count": 10,
   "id": "bff64b09",
   "metadata": {},
   "outputs": [
    {
     "name": "stdout",
     "output_type": "stream",
     "text": [
      "0\n",
      "1\n",
      "2\n",
      "3\n",
      "4\n",
      "5\n",
      "6\n",
      "7\n",
      "8\n",
      "9\n",
      "10\n",
      "11\n",
      "12\n",
      "my project is done\n"
     ]
    }
   ],
   "source": [
    "for i in range(13):\n",
    "    print(i)\n",
    "    if i == 5:\n",
    "        continue\n",
    "else:\n",
    "    print(\"my project is done\")"
   ]
  },
  {
   "cell_type": "code",
   "execution_count": 15,
   "id": "df46922e",
   "metadata": {},
   "outputs": [
    {
     "name": "stdout",
     "output_type": "stream",
     "text": [
      "0\n",
      "1\n",
      "2\n",
      "3\n",
      "4\n",
      "6\n",
      "7\n",
      "8\n",
      "9\n",
      "10\n",
      "11\n",
      "12\n"
     ]
    }
   ],
   "source": [
    "for i in range(13):\n",
    "    if i == 5:\n",
    "        continue\n",
    "    print(i)\n"
   ]
  },
  {
   "cell_type": "code",
   "execution_count": 18,
   "id": "14fe1981",
   "metadata": {},
   "outputs": [
    {
     "name": "stdout",
     "output_type": "stream",
     "text": [
      "enter the value6\n",
      "6X1=1\n",
      "6X2=2\n",
      "6X3=3\n",
      "6X4=4\n",
      "6X5=5\n",
      "6X6=6\n",
      "6X7=7\n",
      "6X8=8\n",
      "6X9=9\n",
      "6X10=10\n"
     ]
    }
   ],
   "source": [
    "num = int(input(\"enter the value\"))\n",
    "for i in range (1,11):\n",
    "    print(f\"{num}X{i}={i*1}\")"
   ]
  },
  {
   "cell_type": "code",
   "execution_count": 20,
   "id": "97f47723",
   "metadata": {},
   "outputs": [
    {
     "name": "stdout",
     "output_type": "stream",
     "text": [
      "hello priya\n",
      "hello priya\n",
      "hello priti\n"
     ]
    }
   ],
   "source": [
    "l1 = ( \"priya\",\"priya\",\"ankiya\",\"priti\")\n",
    "for name in l1:\n",
    "    if name.startswith(\"p\"):\n",
    "        print(\"hello \"+name)"
   ]
  },
  {
   "cell_type": "code",
   "execution_count": 21,
   "id": "da873516",
   "metadata": {},
   "outputs": [
    {
     "name": "stdout",
     "output_type": "stream",
     "text": [
      "hello priya\n",
      "hello priya\n",
      "hello priti\n"
     ]
    }
   ],
   "source": [
    "l1 = ( \"priya\",\"priya\",\"ankiya\",\"priti\")\n",
    "for name in l1:\n",
    "    if name.startswith(\"p\"):\n",
    "        print(\"hello \"+name)"
   ]
  },
  {
   "cell_type": "markdown",
   "id": "0876450b",
   "metadata": {},
   "source": [
    "# function"
   ]
  },
  {
   "cell_type": "code",
   "execution_count": 25,
   "id": "84f4b8f0",
   "metadata": {},
   "outputs": [
    {
     "name": "stdout",
     "output_type": "stream",
     "text": [
      "good day priya\n"
     ]
    }
   ],
   "source": [
    "def greet(name):\n",
    "    print(\"good day \" + name)\n",
    "greet(\"priya\")"
   ]
  },
  {
   "cell_type": "code",
   "execution_count": 32,
   "id": "bdd22e61",
   "metadata": {},
   "outputs": [
    {
     "name": "stdout",
     "output_type": "stream",
     "text": [
      "good day priya\n",
      "10\n"
     ]
    }
   ],
   "source": [
    "def greet(name):\n",
    "    print(\"good day \" + name)\n",
    "    \n",
    "def mysum(num1,num2):\n",
    "    return  num1+num2\n",
    "greet(\"priya\")    \n",
    "s = mysum(6,4)\n",
    "print(s)\n"
   ]
  },
  {
   "cell_type": "code",
   "execution_count": 34,
   "id": "737b3b30",
   "metadata": {},
   "outputs": [
    {
     "name": "stdout",
     "output_type": "stream",
     "text": [
      "******\n",
      "*****\n",
      "****\n",
      "***\n",
      "**\n",
      "*\n"
     ]
    }
   ],
   "source": [
    "n = 6\n",
    "for i in range(n):\n",
    "    print(\"*\" * (n-i))"
   ]
  },
  {
   "cell_type": "code",
   "execution_count": 7,
   "id": "a90a79d1",
   "metadata": {},
   "outputs": [
    {
     "name": "stdout",
     "output_type": "stream",
     "text": [
      "the result is 100\n",
      "the result is 70\n"
     ]
    }
   ],
   "source": [
    "def multiplication_or_sum(num1, num2):\n",
    "    product = num1 * num2\n",
    "    if product <= 1000:\n",
    "        return product\n",
    "    else:\n",
    "         return num1+num2\n",
    "        \n",
    "data = multiplication_or_sum(10, 10)\n",
    "print (\"the result is\", data)\n",
    "\n",
    "data = multiplication_or_sum(40, 30)\n",
    "print (\"the result is\", data)"
   ]
  },
  {
   "cell_type": "code",
   "execution_count": 15,
   "id": "f4608384",
   "metadata": {},
   "outputs": [
    {
     "name": "stdout",
     "output_type": "stream",
     "text": [
      "previus and current numbers there are sum is a range of (10): \n",
      "current no is 1 previus no is 0 sum: 1\n",
      "current no is 2 previus no is 1 sum: 3\n",
      "current no is 3 previus no is 2 sum: 5\n",
      "current no is 4 previus no is 3 sum: 7\n",
      "current no is 5 previus no is 4 sum: 9\n",
      "current no is 6 previus no is 5 sum: 11\n",
      "current no is 7 previus no is 6 sum: 13\n",
      "current no is 8 previus no is 7 sum: 15\n",
      "current no is 9 previus no is 8 sum: 17\n",
      "current no is 10 previus no is 9 sum: 19\n"
     ]
    }
   ],
   "source": [
    "print(\"previus and current numbers there are sum is a range of (10): \")\n",
    "previus_no = 0\n",
    "for i in range (1,11):\n",
    "    x_sum = previus_no + i\n",
    "    print(\"current no is\", i ,\"previus no is\", previus_no, \"sum:\", previus_no + i)\n",
    "    previus_no = i\n",
    "    "
   ]
  },
  {
   "cell_type": "code",
   "execution_count": 16,
   "id": "65ef9636",
   "metadata": {},
   "outputs": [
    {
     "name": "stdout",
     "output_type": "stream",
     "text": [
      "Enter word priyamitmishra\n",
      "Original String: priyamitmishra\n",
      "p\n",
      "i\n",
      "a\n",
      "i\n",
      "m\n",
      "s\n",
      "r\n"
     ]
    }
   ],
   "source": [
    "word = input('Enter word ')\n",
    "print(\"Original String:\", word)\n",
    "\n",
    "# using list slicing\n",
    "# convert string to list\n",
    "# pick only even index chars\n",
    "x = list(word)\n",
    "for i in x[0::2]:\n",
    "    print(i)\n"
   ]
  },
  {
   "cell_type": "code",
   "execution_count": 17,
   "id": "f0f87936",
   "metadata": {},
   "outputs": [
    {
     "name": "stdout",
     "output_type": "stream",
     "text": [
      "Removing characters from a string\n",
      "Original string: pynative\n",
      "tive\n",
      "Original string: pynative\n",
      "native\n"
     ]
    }
   ],
   "source": [
    "def remove_chars(word, n):\n",
    "    print('Original string:', word)\n",
    "    x = word[n:]\n",
    "    return x\n",
    "\n",
    "print(\"Removing characters from a string\")\n",
    "print(remove_chars(\"pynative\", 4))\n",
    "print(remove_chars(\"pynative\", 2))\n"
   ]
  },
  {
   "cell_type": "code",
   "execution_count": 21,
   "id": "a7568706",
   "metadata": {},
   "outputs": [
    {
     "name": "stdout",
     "output_type": "stream",
     "text": [
      "Given list: [10, 20, 30, 40, 10]\n",
      "result is True\n",
      "Given list: [75, 65, 35, 75, 30]\n",
      "result is False\n"
     ]
    }
   ],
   "source": [
    "def first_last_same(numberList):\n",
    "    print(\"Given list:\", numberList)\n",
    "    \n",
    "    first_num = numberList[0]\n",
    "    last_num = numberList[-1]\n",
    "    \n",
    "    if first_num == last_num:\n",
    "        return True\n",
    "    else:\n",
    "        return False\n",
    "    \n",
    "numbers_x = [10, 20, 30, 40, 10]\n",
    "print(\"result is\", first_last_same(numbers_x))\n",
    "\n",
    "numbers_y = [75, 65, 35, 75, 30]\n",
    "print(\"result is\", first_last_same(numbers_y))\n"
   ]
  },
  {
   "cell_type": "code",
   "execution_count": 22,
   "id": "c71a2c5c",
   "metadata": {},
   "outputs": [
    {
     "name": "stdout",
     "output_type": "stream",
     "text": [
      "Given list: [10, 20, 33, 46, 55]\n",
      "Divisible by 5:\n",
      "10\n",
      "20\n",
      "55\n"
     ]
    }
   ],
   "source": [
    "num_list = [10, 20, 33, 46, 55]\n",
    "print(\"Given list:\", num_list)\n",
    "print('Divisible by 5:')\n",
    "for num in num_list:\n",
    "    if num % 5 == 0:\n",
    "        print(num)\n",
    " "
   ]
  },
  {
   "cell_type": "code",
   "execution_count": 23,
   "id": "1cbee855",
   "metadata": {},
   "outputs": [
    {
     "name": "stdout",
     "output_type": "stream",
     "text": [
      "2\n"
     ]
    }
   ],
   "source": [
    "str_x = \"Emma is good developer. Emma is a writer\"\n",
    "# use count method of a str class\n",
    "cnt = str_x.count(\"Emma\")\n",
    "print(cnt)"
   ]
  },
  {
   "cell_type": "code",
   "execution_count": 24,
   "id": "0b42a88e",
   "metadata": {},
   "outputs": [
    {
     "name": "stdout",
     "output_type": "stream",
     "text": [
      "\n",
      "\n",
      "1 \n",
      "\n",
      "2 2 \n",
      "\n",
      "3 3 3 \n",
      "\n",
      "4 4 4 4 \n",
      "\n",
      "5 5 5 5 5 \n",
      "\n",
      "6 6 6 6 6 6 \n",
      "\n",
      "7 7 7 7 7 7 7 \n",
      "\n",
      "8 8 8 8 8 8 8 8 \n",
      "\n",
      "9 9 9 9 9 9 9 9 9 \n",
      "\n"
     ]
    }
   ],
   "source": [
    "for num in range(10):\n",
    "    for i in range(num):\n",
    "        print (num, end=\" \") #print number\n",
    "    # new line after each row to display pattern correctly\n",
    "    print(\"\\n\")\n",
    " "
   ]
  },
  {
   "cell_type": "code",
   "execution_count": 25,
   "id": "2cc51b57",
   "metadata": {},
   "outputs": [
    {
     "name": "stdout",
     "output_type": "stream",
     "text": [
      "result list: [25, 35, 40, 60, 90]\n"
     ]
    }
   ],
   "source": [
    "def merge_list(list1, list2):\n",
    "    result_list = []\n",
    "    \n",
    "    # iterate first list\n",
    "    for num in list1:\n",
    "        # check if current number is odd\n",
    "        if num % 2 != 0:\n",
    "            # add odd number to result list\n",
    "            result_list.append(num)\n",
    "    \n",
    "    # iterate second list\n",
    "    for num in list2:\n",
    "        # check if current number is even\n",
    "        if num % 2 == 0:\n",
    "            # add even number to result list\n",
    "            result_list.append(num)\n",
    "    return result_list\n",
    "\n",
    "list1 = [10, 20, 25, 30, 35]\n",
    "list2 = [40, 45, 60, 75, 90]\n",
    "print(\"result list:\", merge_list(list1, list2))\n",
    " "
   ]
  },
  {
   "cell_type": "code",
   "execution_count": 26,
   "id": "e94b0778",
   "metadata": {},
   "outputs": [
    {
     "name": "stdout",
     "output_type": "stream",
     "text": [
      "Given number 7536\n",
      "6 3 5 7 "
     ]
    }
   ],
   "source": [
    "number = 7536\n",
    "print(\"Given number\", number)\n",
    "while number > 0:\n",
    "    # get the last digit\n",
    "    digit = number % 10\n",
    "    # remove the last digit and repeat the loop\n",
    "    number = number // 10\n",
    "    print(digit, end=\" \")"
   ]
  },
  {
   "cell_type": "code",
   "execution_count": 27,
   "id": "6ec6aa39",
   "metadata": {},
   "outputs": [
    {
     "name": "stdout",
     "output_type": "stream",
     "text": [
      "1 2 3 4 5 6 7 8 9 10 \t\t\n",
      "2 4 6 8 10 12 14 16 18 20 \t\t\n",
      "3 6 9 12 15 18 21 24 27 30 \t\t\n",
      "4 8 12 16 20 24 28 32 36 40 \t\t\n",
      "5 10 15 20 25 30 35 40 45 50 \t\t\n",
      "6 12 18 24 30 36 42 48 54 60 \t\t\n",
      "7 14 21 28 35 42 49 56 63 70 \t\t\n",
      "8 16 24 32 40 48 56 64 72 80 \t\t\n",
      "9 18 27 36 45 54 63 72 81 90 \t\t\n",
      "10 20 30 40 50 60 70 80 90 100 \t\t\n"
     ]
    }
   ],
   "source": [
    "for i in range(1, 11):\n",
    "    for j in range(1, 11):\n",
    "        print(i * j, end=\" \")\n",
    "    print(\"\\t\\t\")"
   ]
  },
  {
   "cell_type": "code",
   "execution_count": 36,
   "id": "27b7fbe5",
   "metadata": {},
   "outputs": [
    {
     "name": "stdout",
     "output_type": "stream",
     "text": [
      "10\n"
     ]
    }
   ],
   "source": [
    "for i in range(1, 11):\n",
    "    j = i+1\n",
    "print(i*1)\n",
    "    "
   ]
  },
  {
   "cell_type": "code",
   "execution_count": 37,
   "id": "170c9c59",
   "metadata": {},
   "outputs": [
    {
     "name": "stdout",
     "output_type": "stream",
     "text": [
      "Enter first number 3\n",
      "Enter second number 2\n",
      "Multiplication is 6\n"
     ]
    }
   ],
   "source": [
    "num1 = int(input(\"Enter first number \"))\n",
    "num2 = int(input(\"Enter second number \"))\n",
    "\n",
    "res = num1 * num2\n",
    "print(\"Multiplication is\", res)"
   ]
  },
  {
   "cell_type": "code",
   "execution_count": 38,
   "id": "be96b644",
   "metadata": {},
   "outputs": [
    {
     "name": "stdout",
     "output_type": "stream",
     "text": [
      "10\n"
     ]
    }
   ],
   "source": [
    "num = 8\n",
    "print('%o' % num)\n",
    " "
   ]
  },
  {
   "cell_type": "code",
   "execution_count": 39,
   "id": "c80ff4bf",
   "metadata": {},
   "outputs": [
    {
     "name": "stdout",
     "output_type": "stream",
     "text": [
      "458.54\n"
     ]
    }
   ],
   "source": [
    "num = 458.541315\n",
    "print('%.2f' % num)"
   ]
  },
  {
   "cell_type": "code",
   "execution_count": 41,
   "id": "7cedd762",
   "metadata": {},
   "outputs": [
    {
     "name": "stdout",
     "output_type": "stream",
     "text": [
      "Enter number at location 0 :\n",
      "2\n",
      "Enter number at location 1 :\n",
      "2\n",
      "Enter number at location 2 :\n",
      "3\n",
      "Enter number at location 3 :\n",
      "e\n"
     ]
    },
    {
     "ename": "ValueError",
     "evalue": "could not convert string to float: 'e'",
     "output_type": "error",
     "traceback": [
      "\u001b[1;31m---------------------------------------------------------------------------\u001b[0m",
      "\u001b[1;31mValueError\u001b[0m                                Traceback (most recent call last)",
      "\u001b[1;32m~\\AppData\\Local\\Temp/ipykernel_9860/2883850842.py\u001b[0m in \u001b[0;36m<module>\u001b[1;34m\u001b[0m\n\u001b[0;32m      6\u001b[0m     \u001b[0mprint\u001b[0m\u001b[1;33m(\u001b[0m\u001b[1;34m\"Enter number at location\"\u001b[0m\u001b[1;33m,\u001b[0m \u001b[0mi\u001b[0m\u001b[1;33m,\u001b[0m \u001b[1;34m\":\"\u001b[0m\u001b[1;33m)\u001b[0m\u001b[1;33m\u001b[0m\u001b[1;33m\u001b[0m\u001b[0m\n\u001b[0;32m      7\u001b[0m     \u001b[1;31m# accept float number from user\u001b[0m\u001b[1;33m\u001b[0m\u001b[1;33m\u001b[0m\u001b[0m\n\u001b[1;32m----> 8\u001b[1;33m     \u001b[0mitem\u001b[0m \u001b[1;33m=\u001b[0m \u001b[0mfloat\u001b[0m\u001b[1;33m(\u001b[0m\u001b[0minput\u001b[0m\u001b[1;33m(\u001b[0m\u001b[1;33m)\u001b[0m\u001b[1;33m)\u001b[0m\u001b[1;33m\u001b[0m\u001b[1;33m\u001b[0m\u001b[0m\n\u001b[0m\u001b[0;32m      9\u001b[0m     \u001b[1;31m# add it to the list\u001b[0m\u001b[1;33m\u001b[0m\u001b[1;33m\u001b[0m\u001b[0m\n\u001b[0;32m     10\u001b[0m     \u001b[0mnumbers\u001b[0m\u001b[1;33m.\u001b[0m\u001b[0mappend\u001b[0m\u001b[1;33m(\u001b[0m\u001b[0mitem\u001b[0m\u001b[1;33m)\u001b[0m\u001b[1;33m\u001b[0m\u001b[1;33m\u001b[0m\u001b[0m\n",
      "\u001b[1;31mValueError\u001b[0m: could not convert string to float: 'e'"
     ]
    }
   ],
   "source": [
    "numbers = []\n",
    "\n",
    "# 5 is the list sis)ze\n",
    "# run loop 5 times\n",
    "for i in range(0, 5):\n",
    "    print(\"Enter number at location\", i, \":\")\n",
    "    # accept float number from user\n",
    "    item = float(input())\n",
    "    # add it to the list\n",
    "    numbers.append(item)\n",
    "\n",
    "print(\"User List:\", numbers)"
   ]
  },
  {
   "cell_type": "markdown",
   "id": "67146d7b",
   "metadata": {},
   "source": [
    "# excersize loop"
   ]
  },
  {
   "cell_type": "code",
   "execution_count": 42,
   "id": "0da752e7",
   "metadata": {},
   "outputs": [
    {
     "name": "stdout",
     "output_type": "stream",
     "text": [
      "1\n",
      "2\n",
      "3\n",
      "4\n",
      "5\n",
      "6\n",
      "7\n",
      "8\n",
      "9\n",
      "10\n"
     ]
    }
   ],
   "source": [
    "#Exercise 1: Print First 10 natural numbers using while loop\n",
    "i = 1\n",
    "while i <= 10:\n",
    "    print(i)\n",
    "    i += 1"
   ]
  },
  {
   "cell_type": "code",
   "execution_count": 43,
   "id": "dd6f3f2b",
   "metadata": {},
   "outputs": [
    {
     "name": "stdout",
     "output_type": "stream",
     "text": [
      "Number Pattern \n",
      "1 \n",
      "1 2 \n",
      "1 2 3 \n",
      "1 2 3 4 \n",
      "1 2 3 4 5 \n"
     ]
    }
   ],
   "source": [
    "#Exercise 2: Print the following pattern\n",
    "print(\"Number Pattern \")\n",
    "\n",
    "# Decide the row count. (above pattern contains 5 rows)\n",
    "row = 5\n",
    "# start: 1\n",
    "# stop: row+1 (range never include stop number in result)\n",
    "# step: 1\n",
    "# run loop 5 times\n",
    "for i in range(1, row + 1, 1):\n",
    "    # Run inner loop i+1 times\n",
    "    for j in range(1, i + 1):\n",
    "        print(j, end=' ')\n",
    "    # empty line after each row\n",
    "    print(\"\")\n"
   ]
  },
  {
   "cell_type": "code",
   "execution_count": 44,
   "id": "ee695580",
   "metadata": {},
   "outputs": [
    {
     "name": "stdout",
     "output_type": "stream",
     "text": [
      "Enter number 2\n",
      "\n",
      "\n",
      "Sum is:  3\n"
     ]
    }
   ],
   "source": [
    "#Exercise 3: Calculate the sum of all numbers from 1 to a given number\n",
    "# s: store sum of all numbers\n",
    "s = 0\n",
    "n = int(input(\"Enter number \"))\n",
    "# run loop n times\n",
    "# stop: n+1 (because range never include stop number in result)\n",
    "for i in range(1, n + 1, 1):\n",
    "    # add current number to sum variable\n",
    "    s += i\n",
    "print(\"\\n\")\n",
    "print(\"Sum is: \", s)"
   ]
  },
  {
   "cell_type": "code",
   "execution_count": 46,
   "id": "69d5cc10",
   "metadata": {},
   "outputs": [
    {
     "name": "stdout",
     "output_type": "stream",
     "text": [
      "2\n",
      "4\n",
      "6\n",
      "8\n",
      "10\n",
      "12\n",
      "14\n",
      "16\n",
      "18\n",
      "20\n"
     ]
    }
   ],
   "source": [
    "#Exercise 4: Write a program to print multiplication table of a given number\n",
    "n = 2\n",
    "# stop: 11 (because range never include stop number in result)\n",
    "# run loop 10 times\n",
    "for i in range(1, 11, 1):\n",
    "    # 2 *i (current number)\n",
    "    product = n * i\n",
    "    print(product)"
   ]
  },
  {
   "cell_type": "code",
   "execution_count": 47,
   "id": "e5831747",
   "metadata": {},
   "outputs": [
    {
     "name": "stdout",
     "output_type": "stream",
     "text": [
      "75\n",
      "150\n",
      "145\n"
     ]
    }
   ],
   "source": [
    "#Exercise 5: Display numbers from a list using loop\n",
    "#The number must be divisible by five\n",
    "#If the number is greater than 150, then skip it and move to the next number\n",
    "#If the number is greater than 500, then stop the loop\n",
    "numbers = [12, 75, 150, 180, 145, 525, 50]\n",
    "# iterate each item of a list\n",
    "for item in numbers:\n",
    "    if item > 500:\n",
    "        break\n",
    "    elif item > 150:\n",
    "        continue\n",
    "    # check if number is divisible by 5\n",
    "    elif item % 5 == 0:\n",
    "        print(item)"
   ]
  },
  {
   "cell_type": "code",
   "execution_count": 48,
   "id": "37a58b09",
   "metadata": {},
   "outputs": [
    {
     "name": "stdout",
     "output_type": "stream",
     "text": [
      "Total digits are: 5\n"
     ]
    }
   ],
   "source": [
    "#Exercise 6: Count the total number of digits in a number\n",
    "num = 75869\n",
    "count = 0\n",
    "while num != 0:\n",
    "    # floor division\n",
    "    # to reduce the last digit from number\n",
    "    num = num // 10\n",
    "\n",
    "    # increment counter by 1\n",
    "    count = count + 1\n",
    "print(\"Total digits are:\", count)"
   ]
  },
  {
   "cell_type": "code",
   "execution_count": 49,
   "id": "345a8387",
   "metadata": {},
   "outputs": [
    {
     "name": "stdout",
     "output_type": "stream",
     "text": [
      "5 4 3 2 1 \n",
      "4 3 2 1 \n",
      "3 2 1 \n",
      "2 1 \n",
      "1 \n",
      "\n"
     ]
    }
   ],
   "source": [
    "#Exercise 7: Print the following pattern\n",
    "n = 5\n",
    "k = 5\n",
    "for i in range(0,n+1):\n",
    "    for j in range(k-i,0,-1):\n",
    "        print(j,end=' ')\n",
    "    print()"
   ]
  },
  {
   "cell_type": "code",
   "execution_count": 50,
   "id": "ab363e46",
   "metadata": {},
   "outputs": [
    {
     "name": "stdout",
     "output_type": "stream",
     "text": [
      "50\n",
      "40\n",
      "30\n",
      "20\n",
      "10\n"
     ]
    }
   ],
   "source": [
    "#Exercise 8: Print list in reverse order using a loop\n",
    "list1 = [10, 20, 30, 40, 50]\n",
    "# reverse list\n",
    "new_list = reversed(list1)\n",
    "# iterate reversed list\n",
    "for item in new_list:\n",
    "    print(item)"
   ]
  },
  {
   "cell_type": "code",
   "execution_count": 51,
   "id": "e57b8a45",
   "metadata": {},
   "outputs": [
    {
     "name": "stdout",
     "output_type": "stream",
     "text": [
      "50\n",
      "40\n",
      "30\n",
      "20\n",
      "10\n"
     ]
    }
   ],
   "source": [
    "#list1 = [10, 20, 30, 40, 50]\n",
    "# get list size\n",
    "# len(list1) -1: because index start with 0\n",
    "# iterate list in reverse order\n",
    "# star from last item to first\n",
    "size = len(list1) - 1\n",
    "for i in range(size, -1, -1):\n",
    "    print(list1[i])"
   ]
  },
  {
   "cell_type": "code",
   "execution_count": 53,
   "id": "4b2141f7",
   "metadata": {},
   "outputs": [
    {
     "name": "stdout",
     "output_type": "stream",
     "text": [
      "-10\n",
      "-9\n",
      "-8\n",
      "-7\n",
      "-6\n",
      "-5\n",
      "-4\n",
      "-3\n",
      "-2\n",
      "-1\n"
     ]
    }
   ],
   "source": [
    "#Exercise 9: Display numbers from -10 to -1 using for loop\n",
    "for num in range(-10, 0, 1):\n",
    "    print(num)"
   ]
  },
  {
   "cell_type": "code",
   "execution_count": 54,
   "id": "53393261",
   "metadata": {},
   "outputs": [
    {
     "name": "stdout",
     "output_type": "stream",
     "text": [
      "0\n",
      "1\n",
      "2\n",
      "3\n",
      "4\n",
      "Done!\n"
     ]
    }
   ],
   "source": [
    "#Exercise 10: Use else block to display a message “Done” after successful execution of for loop\n",
    "for i in range(5):\n",
    "    print(i)\n",
    "else:\n",
    "    print(\"Done!\")"
   ]
  },
  {
   "cell_type": "code",
   "execution_count": 55,
   "id": "2c2ee991",
   "metadata": {},
   "outputs": [
    {
     "name": "stdout",
     "output_type": "stream",
     "text": [
      "Prime numbers between 25 and 50 are:\n",
      "29\n",
      "31\n",
      "37\n",
      "41\n",
      "43\n",
      "47\n"
     ]
    }
   ],
   "source": [
    "#Exercise 11: Write a program to display all prime numbers within a range\n",
    "#Note: A Prime Number is a number that cannot be made by multiplying other whole numbers.\n",
    "    #A prime number is a natural number greater than 1 that is not a product of two smaller natural numbers\n",
    "\n",
    "start = 25\n",
    "end = 50\n",
    "print(\"Prime numbers between\", start, \"and\", end, \"are:\")\n",
    "\n",
    "for num in range(start, end + 1):\n",
    "    # all prime numbers are greater than 1\n",
    "    # if number is less than or equal to 1, it is not prime\n",
    "    if num > 1:\n",
    "        for i in range(2, num):\n",
    "            # check for factors\n",
    "            if (num % i) == 0:\n",
    "                # not a prime number so break inner loop and\n",
    "                # look for next number\n",
    "                break\n",
    "        else:\n",
    "            print(num)"
   ]
  },
  {
   "cell_type": "code",
   "execution_count": 56,
   "id": "cc8b087e",
   "metadata": {},
   "outputs": [
    {
     "name": "stdout",
     "output_type": "stream",
     "text": [
      "Fibonacci sequence:\n",
      "0  1  1  2  3  5  8  13  21  34  "
     ]
    }
   ],
   "source": [
    "#Exercise 12: Display Fibonacci series up to 10 terms\n",
    "# first two numbers\n",
    "num1, num2 = 0, 1\n",
    "\n",
    "print(\"Fibonacci sequence:\")\n",
    "# run loop 10 times\n",
    "for i in range(10):\n",
    "    # print next number of a series\n",
    "    print(num1, end=\"  \")\n",
    "    # add last two numbers to get next number\n",
    "    res = num1 + num2\n",
    "\n",
    "    # update values\n",
    "    num1 = num2\n",
    "    num2 = res"
   ]
  },
  {
   "cell_type": "code",
   "execution_count": 57,
   "id": "b6b9bc49",
   "metadata": {},
   "outputs": [
    {
     "name": "stdout",
     "output_type": "stream",
     "text": [
      "The factorial of 5 is 120\n"
     ]
    }
   ],
   "source": [
    "#Exercise 13: Find the factorial of a given number\n",
    "num = 5\n",
    "factorial = 1\n",
    "if num < 0:\n",
    "    print(\"Factorial does not exist for negative numbers\")\n",
    "elif num == 0:\n",
    "    print(\"The factorial of 0 is 1\")\n",
    "else:\n",
    "    # run loop 5 times\n",
    "    for i in range(1, num + 1):\n",
    "        # multiply factorial by current number\n",
    "        factorial = factorial * i\n",
    "    print(\"The factorial of\", num, \"is\", factorial)"
   ]
  },
  {
   "cell_type": "code",
   "execution_count": 59,
   "id": "b5b7f96c",
   "metadata": {},
   "outputs": [
    {
     "name": "stdout",
     "output_type": "stream",
     "text": [
      "Given Number  76542\n",
      "Revere Number  24567\n"
     ]
    }
   ],
   "source": [
    "#Exercise 14: Reverse a given integer number\n",
    "num = 76542\n",
    "reverse_number = 0\n",
    "print(\"Given Number \", num)\n",
    "while num > 0:\n",
    "    reminder = num % 10\n",
    "    reverse_number = (reverse_number * 10) + reminder\n",
    "    num = num // 10\n",
    "print(\"Revere Number \", reverse_number)"
   ]
  },
  {
   "cell_type": "code",
   "execution_count": 60,
   "id": "174a2282",
   "metadata": {},
   "outputs": [
    {
     "name": "stdout",
     "output_type": "stream",
     "text": [
      "20 40 60 80 100 "
     ]
    }
   ],
   "source": [
    "#Exercise 15: Use a loop to display elements from a given list present at odd index positions\n",
    "my_list = [10, 20, 30, 40, 50, 60, 70, 80, 90, 100]\n",
    "# stat from index 1 with step 2( means 1, 3, 5, an so on)\n",
    "for i in my_list[1::2]:\n",
    "    print(i, end=\" \")"
   ]
  },
  {
   "cell_type": "code",
   "execution_count": null,
   "id": "f40048a4",
   "metadata": {},
   "outputs": [],
   "source": [
    "#Exercise 16: Calculate the cube of all numbers from 1 to a given number\n",
    "\n",
    "input_number = 6\n",
    "for i in range(1, input_number + 1):\n",
    "    print(\"Current Number is :\", i, \" and the cube is\", (i * i * i))\n",
    " Run"
   ]
  },
  {
   "cell_type": "code",
   "execution_count": 61,
   "id": "38e52f71",
   "metadata": {},
   "outputs": [
    {
     "name": "stdout",
     "output_type": "stream",
     "text": [
      "2+22+222+2222+22222+\n",
      "Sum of above series is: 24690\n"
     ]
    }
   ],
   "source": [
    "#Exercise 17: Find the sum of the series upto n terms\n",
    "n = 5\n",
    "# first number of sequence\n",
    "start = 2\n",
    "sum_seq = 0\n",
    "\n",
    "# run loop n times\n",
    "for i in range(0, n):\n",
    "    print(start, end=\"+\")\n",
    "    sum_seq += start\n",
    "    # calculate the next term\n",
    "    start = start * 10 + 2\n",
    "print(\"\\nSum of above series is:\", sum_seq)"
   ]
  },
  {
   "cell_type": "code",
   "execution_count": 62,
   "id": "71038cae",
   "metadata": {},
   "outputs": [
    {
     "name": "stdout",
     "output_type": "stream",
     "text": [
      "* \r\n",
      "* * \r\n",
      "* * * \r\n",
      "* * * * \r\n",
      "* * * * * \r\n",
      "* * * * \r\n",
      "* * * \r\n",
      "* * \r\n",
      "* \r\n",
      "\r\n"
     ]
    }
   ],
   "source": [
    "#Exercise 18: Print the following pattern\n",
    "rows = 5\n",
    "for i in range(0, rows):\n",
    "    for j in range(0, i + 1):\n",
    "        print(\"*\", end=' ')\n",
    "    print(\"\\r\")\n",
    "\n",
    "for i in range(rows, 0, -1):\n",
    "    for j in range(0, i - 1):\n",
    "        print(\"*\", end=' ')\n",
    "    print(\"\\r\")"
   ]
  },
  {
   "cell_type": "code",
   "execution_count": 20,
   "id": "0b6668ad",
   "metadata": {},
   "outputs": [
    {
     "name": "stdout",
     "output_type": "stream",
     "text": [
      "* \r\n",
      "* * \r\n",
      "* * * \r\n",
      "* * * * \r\n",
      "* * * * * \r\n",
      "* * * * \r\n",
      "* * * \r\n",
      "* * \r\n",
      "* \r\n",
      "\r\n"
     ]
    }
   ],
   "source": [
    "rows = 5\n",
    "for i in range(0,rows):\n",
    "    for j in range(0,i+1):\n",
    "        print(\"*\",end=\" \")\n",
    "    print(\"\\r\")\n",
    "    \n",
    "for i in range(rows,0 ,-1):\n",
    "    for j in range(0,i-1):\n",
    "        print(\"*\",end=' ')\n",
    "    print(\"\\r\")    \n",
    "    "
   ]
  },
  {
   "cell_type": "code",
   "execution_count": 21,
   "id": "a315251e",
   "metadata": {},
   "outputs": [
    {
     "name": "stdout",
     "output_type": "stream",
     "text": [
      "Ben 25\n"
     ]
    }
   ],
   "source": [
    "#Exercise 1: Create a function in Python\n",
    "# demo is the function name\n",
    "def demo(name, age):\n",
    "    # print value\n",
    "    print(name, age)\n",
    "\n",
    "# call function\n",
    "demo(\"Ben\", 25)\n",
    " "
   ]
  },
  {
   "cell_type": "code",
   "execution_count": 1,
   "id": "838b3a33",
   "metadata": {},
   "outputs": [
    {
     "name": "stdout",
     "output_type": "stream",
     "text": [
      "20\n",
      "40\n",
      "60\n",
      "80\n",
      "100\n"
     ]
    }
   ],
   "source": [
    "#Exercise 2: Create a function with variable length of arguments\n",
    "def func1(*args):\n",
    "    for i in args:\n",
    "        print(i)\n",
    "\n",
    "func1(20, 40, 60)\n",
    "func1(80, 100)"
   ]
  },
  {
   "cell_type": "code",
   "execution_count": 2,
   "id": "7d748e5d",
   "metadata": {},
   "outputs": [
    {
     "name": "stdout",
     "output_type": "stream",
     "text": [
      "(50, 30)\n"
     ]
    }
   ],
   "source": [
    "#Exercise 3: Return multiple values from a function\n",
    "def calculation(a, b):\n",
    "    addition = a + b\n",
    "    subtraction = a - b\n",
    "    # return multiple values separated by comma\n",
    "    return addition, subtraction\n",
    "\n",
    "# get result in tuple format\n",
    "res = calculation(40, 10)\n",
    "print(res)"
   ]
  },
  {
   "cell_type": "code",
   "execution_count": 3,
   "id": "516fd59d",
   "metadata": {},
   "outputs": [
    {
     "name": "stdout",
     "output_type": "stream",
     "text": [
      "Name: Ben salary: 12000\n",
      "Name: Jessa salary: 9000\n"
     ]
    }
   ],
   "source": [
    "#Exercise 4: Create a function with default argument\n",
    "# function with default argument\n",
    "def show_employee(name, salary=9000):\n",
    "    print(\"Name:\", name, \"salary:\", salary)\n",
    "\n",
    "show_employee(\"Ben\", 12000)\n",
    "show_employee(\"Jessa\")\n",
    " "
   ]
  },
  {
   "cell_type": "code",
   "execution_count": 4,
   "id": "044f8b7c",
   "metadata": {},
   "outputs": [
    {
     "name": "stdout",
     "output_type": "stream",
     "text": [
      "20\n"
     ]
    }
   ],
   "source": [
    "#Exercise 5: Create an inner function to calculate the addition in the following way\n",
    "# outer function\n",
    "def outer_fun(a, b):\n",
    "    square = a ** 2\n",
    "\n",
    "    # inner function\n",
    "    def addition(a, b):\n",
    "        return a + b\n",
    "\n",
    "    # call inner function from outer function\n",
    "    add = addition(a, b)\n",
    "    # add 5 to the result\n",
    "    return add + 5\n",
    "\n",
    "result = outer_fun(5, 10)\n",
    "print(result)"
   ]
  },
  {
   "cell_type": "code",
   "execution_count": 6,
   "id": "2315df24",
   "metadata": {},
   "outputs": [
    {
     "name": "stdout",
     "output_type": "stream",
     "text": [
      "55\n"
     ]
    }
   ],
   "source": [
    "#Exercise 6: Create a recursive function\n",
    "def addition(num):\n",
    "    if num:\n",
    "        # call same function by reducing number by 1\n",
    "        return num + addition(num - 1)\n",
    "    else:\n",
    "        return 0\n",
    "\n",
    "res = addition(10)\n",
    "print(res)"
   ]
  },
  {
   "cell_type": "code",
   "execution_count": 7,
   "id": "5638ac6b",
   "metadata": {},
   "outputs": [
    {
     "name": "stdout",
     "output_type": "stream",
     "text": [
      "Emma 26\n",
      "Emma 26\n"
     ]
    }
   ],
   "source": [
    "#Exercise 7: Assign a different name to function and call it through the new name\n",
    "\n",
    "def display_student(name, age):\n",
    "    print(name, age)\n",
    "\n",
    "# call using original name\n",
    "display_student(\"Emma\", 26)\n",
    "\n",
    "# assign new name\n",
    "showStudent = display_student\n",
    "# call using new name\n",
    "showStudent(\"Emma\", 26)"
   ]
  },
  {
   "cell_type": "code",
   "execution_count": 9,
   "id": "ecdfead9",
   "metadata": {},
   "outputs": [
    {
     "name": "stdout",
     "output_type": "stream",
     "text": [
      "[4, 6, 8, 10, 12, 14, 16, 18, 20, 22, 24, 26, 28]\n"
     ]
    }
   ],
   "source": [
    "#Exercise 8: Generate a Python list of all the even numbers between 4 to 30\n",
    "print(list(range(4, 30, 2)))\n"
   ]
  },
  {
   "cell_type": "code",
   "execution_count": 28,
   "id": "88322145",
   "metadata": {},
   "outputs": [
    {
     "name": "stdout",
     "output_type": "stream",
     "text": [
      "2\n"
     ]
    }
   ],
   "source": [
    "#Exercise 9: Find the largest item from a given list\n",
    "x = [4, 6, 8, 24, 12, 2]\n",
    "print(min(x))"
   ]
  },
  {
   "cell_type": "code",
   "execution_count": 11,
   "id": "406eb4de",
   "metadata": {},
   "outputs": [
    {
     "name": "stdout",
     "output_type": "stream",
     "text": [
      "Original String is James\n",
      "New String: Jms\n"
     ]
    }
   ],
   "source": [
    "str1 = 'James'\n",
    "print(\"Original String is\", str1)\n",
    "\n",
    "# Get first character\n",
    "res = str1[0]\n",
    "\n",
    "# Get string size\n",
    "l = len(str1)\n",
    "# Get middle index number\n",
    "mi = int(l / 2)\n",
    "# Get middle character and add it to result\n",
    "res = res + str1[mi]\n",
    "\n",
    "# Get last character and add it to result\n",
    "res = res + str1[l - 1]\n",
    "\n",
    "print(\"New String:\", res)"
   ]
  },
  {
   "cell_type": "code",
   "execution_count": 13,
   "id": "d5f87f45",
   "metadata": {},
   "outputs": [
    {
     "name": "stdout",
     "output_type": "stream",
     "text": [
      "Original String is JhonDipPeta\n",
      "Middle three chars are: Dip\n",
      "Original String is JaSonAy\n",
      "Middle three chars are: Son\n"
     ]
    }
   ],
   "source": [
    "def get_middle_three_chars(str1):\n",
    "    print(\"Original String is\", str1)\n",
    "\n",
    "    # first get middle index number\n",
    "    mi = int(len(str1) / 2)\n",
    "\n",
    "    # use string slicing to get result characters\n",
    "    res = str1[mi - 1:mi + 2]\n",
    "    print(\"Middle three chars are:\", res)\n",
    "\n",
    "get_middle_three_chars(\"JhonDipPeta\")\n",
    "get_middle_three_chars(\"JaSonAy\")\n",
    " "
   ]
  },
  {
   "cell_type": "code",
   "execution_count": 14,
   "id": "9d670442",
   "metadata": {},
   "outputs": [
    {
     "name": "stdout",
     "output_type": "stream",
     "text": [
      "Original String is: Emma is a data scientist who knows Python. Emma works at google.\n",
      "Last occurrence of Emma starts at index: 43\n"
     ]
    }
   ],
   "source": [
    "str1 = \"Emma is a data scientist who knows Python. Emma works at google.\"\n",
    "print(\"Original String is:\", str1)\n",
    "\n",
    "index = str1.rfind(\"Emma\")\n",
    "print(\"Last occurrence of Emma starts at index:\", index)"
   ]
  },
  {
   "cell_type": "code",
   "execution_count": 15,
   "id": "8a39f5a4",
   "metadata": {},
   "outputs": [
    {
     "name": "stdout",
     "output_type": "stream",
     "text": [
      "Original String is: Emma-is-a-data-scientist\n",
      "Displaying each substring\n",
      "Emma\n",
      "is\n",
      "a\n",
      "data\n",
      "scientist\n"
     ]
    }
   ],
   "source": [
    "str1 = \"Emma-is-a-data-scientist\"\n",
    "print(\"Original String is:\", str1)\n",
    "\n",
    "# split string\n",
    "sub_strings = str1.split(\"-\")\n",
    "\n",
    "print(\"Displaying each substring\")\n",
    "for sub in sub_strings:\n",
    "    print(sub)"
   ]
  },
  {
   "cell_type": "code",
   "execution_count": 17,
   "id": "9b2e47d5",
   "metadata": {},
   "outputs": [
    {
     "name": "stdout",
     "output_type": "stream",
     "text": [
      "Original String is: Emma-is-a-data-scientist\n",
      "['Emma', 'is', 'a', 'data', 'scientist']\n"
     ]
    }
   ],
   "source": [
    "str1 = \"Emma-is-a-data-scientist\"\n",
    "print(\"Original String is:\", str1)\n",
    "\n",
    "# split string\n",
    "sub_strings = str1.split(\"-\")\n",
    "print(sub_strings)"
   ]
  },
  {
   "cell_type": "code",
   "execution_count": 18,
   "id": "9248d98c",
   "metadata": {},
   "outputs": [
    {
     "name": "stdout",
     "output_type": "stream",
     "text": [
      "['Emma', 'Jon', 'Kelly', 'Eric']\n"
     ]
    }
   ],
   "source": [
    "str_list = [\"Emma\", \"Jon\", \"\", \"Kelly\", None, \"Eric\", \"\"]\n",
    "res_list = []\n",
    "for s in str_list:\n",
    "    # check for non empty string\n",
    "    if s:\n",
    "        res_list.append(s)\n",
    "print(res_list)\n",
    " "
   ]
  },
  {
   "cell_type": "code",
   "execution_count": 19,
   "id": "c6978a64",
   "metadata": {},
   "outputs": [
    {
     "name": "stdout",
     "output_type": "stream",
     "text": [
      "Original string is  /*Jon is @developer & musician\n",
      "New string is  Jon is developer  musician\n"
     ]
    }
   ],
   "source": [
    "#Exercise 15: Remove special symbols / punctuation from a string\n",
    "import string\n",
    "\n",
    "str1 = \"/*Jon is @developer & musician\"\n",
    "print(\"Original string is \", str1)\n",
    "\n",
    "new_str = str1.translate(str.maketrans('', '', string.punctuation))\n",
    "\n",
    "print(\"New string is \", new_str)\n",
    " "
   ]
  },
  {
   "cell_type": "code",
   "execution_count": 20,
   "id": "0849ffec",
   "metadata": {},
   "outputs": [
    {
     "name": "stdout",
     "output_type": "stream",
     "text": [
      "Original string is I am 25 years and 10 months old\n",
      "2510\n"
     ]
    }
   ],
   "source": [
    "#Exercise 16: Removal all characters from a string except integers\n",
    "str1 = 'I am 25 years and 10 months old'\n",
    "print(\"Original string is\", str1)\n",
    "\n",
    "# Retain Numbers in String\n",
    "# Using list comprehension + join() + isdigit()\n",
    "res = \"\".join([item for item in str1 if item.isdigit()])\n",
    "\n",
    "print(res)"
   ]
  },
  {
   "cell_type": "code",
   "execution_count": 21,
   "id": "c45e886a",
   "metadata": {},
   "outputs": [
    {
     "name": "stdout",
     "output_type": "stream",
     "text": [
      "The original string is : Emma25 is Data scientist50 and AI Expert\n",
      "Displaying words with alphabets and numbers\n",
      "Emma25\n",
      "scientist50\n"
     ]
    }
   ],
   "source": [
    "#Exercise 17: Find words with both alphabets and numbers\n",
    "str1 = \"Emma25 is Data scientist50 and AI Expert\"\n",
    "print(\"The original string is : \" + str1)\n",
    "\n",
    "res = []\n",
    "# split string on whitespace\n",
    "temp = str1.split()\n",
    "\n",
    "# Words with both alphabets and numbers\n",
    "# isdigit() for numbers + isalpha() for alphabets\n",
    "# use any() to check each character\n",
    "\n",
    "for item in temp:\n",
    "    if any(char.isalpha() for char in item) and any(char.isdigit() for char in item):\n",
    "        res.append(item)\n",
    "\n",
    "print(\"Displaying words with alphabets and numbers\")\n",
    "for i in res:\n",
    "    print(i)"
   ]
  },
  {
   "cell_type": "code",
   "execution_count": 23,
   "id": "d1ea8025",
   "metadata": {},
   "outputs": [
    {
     "name": "stdout",
     "output_type": "stream",
     "text": [
      "inter the 1st number: 1\n",
      "inter the second number: 2\n",
      "add a both number:  3\n"
     ]
    }
   ],
   "source": [
    "#write a pythone program add a two no\n",
    "\n",
    "a = int(input(\"inter the 1st number: \"))\n",
    "b = int(input(\"inter the second number: \"))\n",
    "print(\"add a both number: \",a+b)"
   ]
  },
  {
   "cell_type": "code",
   "execution_count": 22,
   "id": "c3a94739",
   "metadata": {},
   "outputs": [
    {
     "name": "stdout",
     "output_type": "stream",
     "text": [
      "The original string is :  /*Jon is @developer & musician!!\n",
      "The strings after replacement :  ##Jon is #developer # musician##\n"
     ]
    }
   ],
   "source": [
    "#Exercise 18: Replace each special symbol with # in the following string\n",
    "import string\n",
    "\n",
    "str1 = '/*Jon is @developer & musician!!'\n",
    "print(\"The original string is : \", str1)\n",
    "\n",
    "# Replace punctuations with #\n",
    "replace_char = '#'\n",
    "\n",
    "# string.punctuation to get the list of all special symbols\n",
    "for char in string.punctuation:\n",
    "    str1 = str1.replace(char, replace_char)\n",
    "\n",
    "print(\"The strings after replacement : \", str1)"
   ]
  },
  {
   "cell_type": "code",
   "execution_count": 29,
   "id": "8281a963",
   "metadata": {},
   "outputs": [
    {
     "name": "stdout",
     "output_type": "stream",
     "text": [
      "{'Ten': 10, 'Twenty': 20, 'Thirty': 30, 'Fourty': 40, 'Fifty': 50}\n"
     ]
    }
   ],
   "source": [
    "#Exercise 2: Merge two Python dictionaries into one\n",
    "dict1 = {'Ten': 10, 'Twenty': 20, 'Thirty': 30}\n",
    "dict2 = {'Thirty': 30, 'Fourty': 40, 'Fifty': 50}\n",
    "\n",
    "dict3 = {**dict1, **dict2}\n",
    "print(dict3)"
   ]
  },
  {
   "cell_type": "code",
   "execution_count": 30,
   "id": "a0f6b7fd",
   "metadata": {},
   "outputs": [
    {
     "name": "stdout",
     "output_type": "stream",
     "text": [
      "80\n"
     ]
    }
   ],
   "source": [
    "#Exercise 3: Print the value of key ‘history’ from the below dict\n",
    "sampleDict = {\n",
    "    \"class\": {\n",
    "        \"student\": {\n",
    "            \"name\": \"Mike\",\n",
    "            \"marks\": {\n",
    "                \"physics\": 70,\n",
    "                \"history\": 80\n",
    "            }\n",
    "        }\n",
    "    }\n",
    "}\n",
    "\n",
    "# understand how to located the nested key\n",
    "# sampleDict['class'] = {'student': {'name': 'Mike', 'marks': {'physics': 70, 'history': 80}}}\n",
    "# sampleDict['class']['student'] = {'name': 'Mike', 'marks': {'physics': 70, 'history': 80}}\n",
    "# sampleDict['class']['student']['marks'] = {'physics': 70, 'history': 80}\n",
    "\n",
    "# solution\n",
    "print(sampleDict['class']['student']['marks']['history'])\n",
    " "
   ]
  },
  {
   "cell_type": "code",
   "execution_count": 31,
   "id": "235e2c35",
   "metadata": {},
   "outputs": [
    {
     "name": "stdout",
     "output_type": "stream",
     "text": [
      "{'Kelly': {'designation': 'Developer', 'salary': 8000}, 'Emma': {'designation': 'Developer', 'salary': 8000}}\n",
      "{'designation': 'Developer', 'salary': 8000}\n"
     ]
    }
   ],
   "source": [
    "#Exercise 4: Initialize dictionary with default values\n",
    "employees = ['Kelly', 'Emma']\n",
    "defaults = {\"designation\": 'Developer', \"salary\": 8000}\n",
    "\n",
    "res = dict.fromkeys(employees, defaults)\n",
    "print(res)\n",
    "\n",
    "# Individual data\n",
    "print(res[\"Kelly\"])"
   ]
  },
  {
   "cell_type": "code",
   "execution_count": 32,
   "id": "0837fbca",
   "metadata": {},
   "outputs": [
    {
     "name": "stdout",
     "output_type": "stream",
     "text": [
      "{'name': 'Kelly', 'salary': 8000}\n"
     ]
    }
   ],
   "source": [
    "#Exercise 5: Create a dictionary by extracting the keys from a given dictionary\n",
    "sampleDict = { \n",
    "  \"name\": \"Kelly\",\n",
    "  \"age\":25, \n",
    "  \"salary\": 8000, \n",
    "  \"city\": \"New york\" }\n",
    "\n",
    "keys = [\"name\", \"salary\"]\n",
    "\n",
    "newDict = {k: sampleDict[k] for k in keys}\n",
    "print(newDict)"
   ]
  },
  {
   "cell_type": "code",
   "execution_count": 33,
   "id": "ab7b1172",
   "metadata": {},
   "outputs": [
    {
     "name": "stdout",
     "output_type": "stream",
     "text": [
      "{'age': 25, 'city': 'New york'}\n"
     ]
    }
   ],
   "source": [
    "#Exercise 6: Delete a list of keys from a dictionary\n",
    "sample_dict = {\n",
    "    \"name\": \"Kelly\",\n",
    "    \"age\": 25,\n",
    "    \"salary\": 8000,\n",
    "    \"city\": \"New york\"\n",
    "}\n",
    "# Keys to remove\n",
    "keys = [\"name\", \"salary\"]\n",
    "\n",
    "for k in keys:\n",
    "    sample_dict.pop(k)\n",
    "print(sample_dict)"
   ]
  },
  {
   "cell_type": "code",
   "execution_count": 34,
   "id": "e20d90a2",
   "metadata": {},
   "outputs": [
    {
     "name": "stdout",
     "output_type": "stream",
     "text": [
      "200 present in a dict\n"
     ]
    }
   ],
   "source": [
    "#Exercise 7: Check if a value exists in a dictionary\n",
    "sample_dict = {'a': 100, 'b': 200, 'c': 300}\n",
    "if 200 in sample_dict.values():\n",
    "    print('200 present in a dict')"
   ]
  },
  {
   "cell_type": "code",
   "execution_count": 35,
   "id": "ad5e0065",
   "metadata": {},
   "outputs": [
    {
     "name": "stdout",
     "output_type": "stream",
     "text": [
      "{'name': 'Kelly', 'age': 25, 'salary': 8000, 'location': 'New york'}\n"
     ]
    }
   ],
   "source": [
    "#Exercise 8: Rename key of a dictionary\n",
    "sample_dict = {\n",
    "    \"name\": \"Kelly\",\n",
    "    \"age\": 25,\n",
    "    \"salary\": 8000,\n",
    "    \"city\": \"New york\"\n",
    "}\n",
    "\n",
    "sample_dict['location'] = sample_dict.pop('city')\n",
    "print(sample_dict)"
   ]
  },
  {
   "cell_type": "code",
   "execution_count": 36,
   "id": "6b719539",
   "metadata": {},
   "outputs": [
    {
     "name": "stdout",
     "output_type": "stream",
     "text": [
      "Math\n"
     ]
    }
   ],
   "source": [
    "#Exercise 9: Get the key of a minimum value from the following dictionary\n",
    "sample_dict = {\n",
    "    'Physics': 82,\n",
    "    'Math': 65,\n",
    "    'history': 75\n",
    "}\n",
    "print(min(sample_dict, key=sample_dict.get))"
   ]
  },
  {
   "cell_type": "code",
   "execution_count": 37,
   "id": "25db6263",
   "metadata": {},
   "outputs": [
    {
     "name": "stdout",
     "output_type": "stream",
     "text": [
      "{'emp1': {'name': 'Jhon', 'salary': 7500}, 'emp2': {'name': 'Emma', 'salary': 8000}, 'emp3': {'name': 'Brad', 'salary': 8500}}\n"
     ]
    }
   ],
   "source": [
    "#Exercise 10: Change value of a key in a nested dictionary\n",
    "sample_dict = {\n",
    "    'emp1': {'name': 'Jhon', 'salary': 7500},\n",
    "    'emp2': {'name': 'Emma', 'salary': 8000},\n",
    "    'emp3': {'name': 'Brad', 'salary': 6500}\n",
    "}\n",
    "\n",
    "sample_dict['emp3']['salary'] = 8500\n",
    "print(sample_dict)\n",
    " "
   ]
  },
  {
   "cell_type": "code",
   "execution_count": null,
   "id": "f0c94774",
   "metadata": {},
   "outputs": [],
   "source": [
    "#"
   ]
  }
 ],
 "metadata": {
  "kernelspec": {
   "display_name": "Python 3 (ipykernel)",
   "language": "python",
   "name": "python3"
  },
  "language_info": {
   "codemirror_mode": {
    "name": "ipython",
    "version": 3
   },
   "file_extension": ".py",
   "mimetype": "text/x-python",
   "name": "python",
   "nbconvert_exporter": "python",
   "pygments_lexer": "ipython3",
   "version": "3.9.7"
  }
 },
 "nbformat": 4,
 "nbformat_minor": 5
}
